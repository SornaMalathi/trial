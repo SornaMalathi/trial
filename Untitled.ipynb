{
 "cells": [
  {
   "cell_type": "markdown",
   "id": "d7ee44fd-9d69-4778-9b0d-605d62afe5b1",
   "metadata": {},
   "source": [
    "# Trial for repo creation"
   ]
  }
 ],
 "metadata": {
  "kernelspec": {
   "display_name": "Python 3 (ipykernel)",
   "language": "python",
   "name": "python3"
  },
  "language_info": {
   "codemirror_mode": {
    "name": "ipython",
    "version": 3
   },
   "file_extension": ".py",
   "mimetype": "text/x-python",
   "name": "python",
   "nbconvert_exporter": "python",
   "pygments_lexer": "ipython3",
   "version": "3.13.5"
  }
 },
 "nbformat": 4,
 "nbformat_minor": 5
}
